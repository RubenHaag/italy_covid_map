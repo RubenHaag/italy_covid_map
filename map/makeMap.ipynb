{
 "cells": [
  {
   "cell_type": "code",
   "execution_count": 2,
   "id": "44010057",
   "metadata": {},
   "outputs": [],
   "source": [
    "# Import libraries and read data \n",
    "from urllib.request import urlopen\n",
    "import json\n",
    "import pandas as pd\n",
    "import os\n",
    "\n",
    "os.system(\"cd ..\")\n",
    "import plotly.express as px\n",
    "# Read Data\n"
   ]
  },
  {
   "cell_type": "code",
   "execution_count": 6,
   "id": "ce07b65c",
   "metadata": {},
   "outputs": [
    {
     "name": "stdout",
     "output_type": "stream",
     "text": [
      "['popolazione.csv', 'limits_IT_provinces.geojson', 'makeMap.ipynb', 'dpc-covid19-ita-province.csv', '.ipynb_checkpoints']\n"
     ]
    }
   ],
   "source": [
    "print(os.listdir(\"./\"))\n",
    "\n",
    "df = pd.read_csv(\"./dpc-covid19-ita-province.csv\")\n",
    "#df = pd.read_csv(\"https://raw.githubusercontent.com/pcm-dpc/COVID-19/master/dati-province/dpc-covid19-ita-province.csv\")"
   ]
  },
  {
   "cell_type": "code",
   "execution_count": 7,
   "id": "36473df1",
   "metadata": {},
   "outputs": [],
   "source": [
    "# Drop useless colums\n",
    "df.drop(columns=['stato', 'codice_regione', 'denominazione_regione','sigla_provincia', 'lat', 'long', \"note\", \"codice_nuts_1\", \"codice_nuts_2\", \"codice_nuts_3\"], axis=1, inplace=True)\n",
    "# Drop useless rows \n",
    "df = df[df['denominazione_provincia'] != 'In fase di definizione/aggiornamento']\n",
    "df = df[df['denominazione_provincia'] != 'Fuori Regione / Provincia Autonoma']\n",
    "\n",
    "\n",
    "# Columns manipulation\n",
    "df = df.rename(columns={'codice_provincia': 'Province'})\n",
    "df = df.rename(columns={'totale_casi': 'Totale Casi'})\n",
    "df['Date'] = pd.to_datetime(df['data'], format=\"%Y-%m-%d\")\n",
    "df['Date'] = df['Date'].dt.strftime('%Y-%m-%d')"
   ]
  },
  {
   "cell_type": "code",
   "execution_count": 8,
   "id": "0fad4e50",
   "metadata": {},
   "outputs": [
    {
     "data": {
      "text/html": [
       "<div>\n",
       "<style scoped>\n",
       "    .dataframe tbody tr th:only-of-type {\n",
       "        vertical-align: middle;\n",
       "    }\n",
       "\n",
       "    .dataframe tbody tr th {\n",
       "        vertical-align: top;\n",
       "    }\n",
       "\n",
       "    .dataframe thead th {\n",
       "        text-align: right;\n",
       "    }\n",
       "</style>\n",
       "<table border=\"1\" class=\"dataframe\">\n",
       "  <thead>\n",
       "    <tr style=\"text-align: right;\">\n",
       "      <th></th>\n",
       "      <th>data</th>\n",
       "      <th>Province</th>\n",
       "      <th>denominazione_provincia</th>\n",
       "      <th>Totale Casi</th>\n",
       "      <th>Date</th>\n",
       "    </tr>\n",
       "  </thead>\n",
       "  <tbody>\n",
       "    <tr>\n",
       "      <th>0</th>\n",
       "      <td>2020-02-24T18:00:00</td>\n",
       "      <td>66</td>\n",
       "      <td>L'Aquila</td>\n",
       "      <td>0</td>\n",
       "      <td>2020-02-24</td>\n",
       "    </tr>\n",
       "    <tr>\n",
       "      <th>1</th>\n",
       "      <td>2020-02-24T18:00:00</td>\n",
       "      <td>67</td>\n",
       "      <td>Teramo</td>\n",
       "      <td>0</td>\n",
       "      <td>2020-02-24</td>\n",
       "    </tr>\n",
       "    <tr>\n",
       "      <th>2</th>\n",
       "      <td>2020-02-24T18:00:00</td>\n",
       "      <td>68</td>\n",
       "      <td>Pescara</td>\n",
       "      <td>0</td>\n",
       "      <td>2020-02-24</td>\n",
       "    </tr>\n",
       "    <tr>\n",
       "      <th>3</th>\n",
       "      <td>2020-02-24T18:00:00</td>\n",
       "      <td>69</td>\n",
       "      <td>Chieti</td>\n",
       "      <td>0</td>\n",
       "      <td>2020-02-24</td>\n",
       "    </tr>\n",
       "    <tr>\n",
       "      <th>5</th>\n",
       "      <td>2020-02-24T18:00:00</td>\n",
       "      <td>76</td>\n",
       "      <td>Potenza</td>\n",
       "      <td>0</td>\n",
       "      <td>2020-02-24</td>\n",
       "    </tr>\n",
       "  </tbody>\n",
       "</table>\n",
       "</div>"
      ],
      "text/plain": [
       "                  data  Province denominazione_provincia  Totale Casi  \\\n",
       "0  2020-02-24T18:00:00        66                L'Aquila            0   \n",
       "1  2020-02-24T18:00:00        67                  Teramo            0   \n",
       "2  2020-02-24T18:00:00        68                 Pescara            0   \n",
       "3  2020-02-24T18:00:00        69                  Chieti            0   \n",
       "5  2020-02-24T18:00:00        76                 Potenza            0   \n",
       "\n",
       "         Date  \n",
       "0  2020-02-24  \n",
       "1  2020-02-24  \n",
       "2  2020-02-24  \n",
       "3  2020-02-24  \n",
       "5  2020-02-24  "
      ]
     },
     "execution_count": 8,
     "metadata": {},
     "output_type": "execute_result"
    }
   ],
   "source": [
    "df.head()"
   ]
  },
  {
   "cell_type": "code",
   "execution_count": 9,
   "id": "5980fe7d",
   "metadata": {},
   "outputs": [
    {
     "name": "stdout",
     "output_type": "stream",
     "text": [
      "{'Torino': 2213000.0, 'Vercelli': 167200.0, 'Biella': 171800.0, 'Verbano-Cusio-Ossola': 155100.0, 'Novara': 362200.0, 'Cuneo': 582400.0, 'Asti': 209600.0, 'Alessandria': 411900.0, 'Piemonte': 4273200.0, 'Aosta': 123900.0, 'Varese': 879900.0, 'Como': 594700.0, 'Lecco': 332600.0, 'Sondrio': 179200.0, 'Milano': 3249800.0, 'Bergamo': 1099600.0, 'Brescia': 1247600.0, 'Pavia': 535000.0, 'Lodi': 225900.0, 'Cremona': 351700.0, 'Mantova': 403600.0, 'Monza e della Brianza': 867400.0, 'Lombardia': 9967000.0, 'Bolzano': 533700.0, 'Trento': 544700.0, 'Trentino-A. A.': 1078500.0, 'Verona': 922300.0, 'Vicenza': 850400.0, 'Belluno': 199600.0, 'Treviso': 878100.0, 'Venezia': 842900.0, 'Padova': 929500.0, 'Rovigo': 229700.0, 'Veneto': 4852500.0, 'Pordenone': 309100.0, 'Udine': 523400.0, 'Gorizia': 136800.0, 'Trieste': 229500.0, 'Friuli-V. G.': 1198800.0, 'Imperia': 208600.0, 'Savona': 268800.0, 'Genova': 816900.0, 'La Spezia': 215500.0, 'Liguria': 1509800.0, 'Piacenza': 284100.0, 'Parma': 453600.0, \"Reggio nell'Emilia\": 526300.0, 'Modena': 704700.0, 'Bologna': 1019500.0, 'Ferrara': 342000.0, 'Ravenna': 386300.0, 'Forlì-Cesena': 393600.0, 'Rimini': 335500.0, 'Emilia-Romagna': 4445500.0, 'Massa Carrara': 189800.0, 'Lucca': 380700.0, 'Pistoia': 290800.0, 'Firenze': 986000.0, 'Prato': 256000.0, 'Livorno': 329600.0, 'Pisa': 416400.0, 'Arezzo': 336900.0, 'Siena': 263500.0, 'Grosseto': 218500.0, 'Toscana': 3668300.0, 'Perugia': 643300.0, 'Terni': 221700.0, 'Umbria': 865000.0, 'Pesaro e Urbino': 354100.0, 'Ancona': 465000.0, 'Macerata': 307400.0, 'Ascoli Piceno': 204600.0, 'Fermo': 170200.0, 'Marche': 1501400.0, 'Viterbo': 306900.0, 'Rieti': 151700.0, 'Roma': 4227600.0, 'Latina': 561100.0, 'Frosinone': 473500.0, 'Lazio': 5720800.0, \"L'Aquila\": 292400.0, 'Teramo': 301800.0, 'Pescara': 314700.0, 'Chieti': 376400.0, 'Abruzzo': 1285300.0, 'Isernia': 81900.0, 'Campobasso': 214600.0, 'Molise': 296500.0, 'Caserta': 911600.0, 'Benevento': 269200.0, 'Napoli': 3017700.0, 'Avellino': 406000.0, 'Salerno': 1075300.0, 'Campania': 5679800.0, 'Foggia': 601400.0, 'Bari': 1222800.0, 'Taranto': 560000.0, 'Brindisi': 382500.0, 'Lecce': 777500.0, 'Barletta-Andria-Trani': 382700.0, 'Puglia': 3926900.0, 'Potenza': 354100.0, 'Matera': 193500.0, 'Basilicata': 547600.0, 'Cosenza': 684800.0, 'Crotone': 166600.0, 'Catanzaro': 346500.0, 'Vibo Valentia': 153200.0, 'Reggio di Calabria': 526600.0, 'Calabria': 1877700.0, 'Trapani': 418400.0, 'Palermo': 1214300.0, 'Messina': 609200.0, 'Agrigento': 419800.0, 'Caltanissetta': 252800.0, 'Enna': 158200.0, 'Catania': 1066800.0, 'Ragusa': 315000.0, 'Siracusa': 386500.0, 'Sicilia': 4840900.0, 'Sassari': 481100.0, 'Nuoro': 203000.0, 'Oristano': 153200.0, 'Cagliari': 420100.0, 'Sud Sardegna': 340900.0, 'Sardegna': 1598200.0, 'Nord-ovest': 15873900.0, 'Nord-est': 11575200.0, 'Centro': 11755500.0, 'Sud': 13613800.0, 'Isole': 6439100.0, 'ITALIA': 59257600.0}\n"
     ]
    }
   ],
   "source": [
    "populations = pd.read_csv(\"./popolazione.csv\")\n",
    "populations[\"Popolazione\"] = [n * 10**3 for n in populations[\"Popolazione\"]]\n",
    "iterator = zip(populations[\"Province / Regioni / Ripartizioni\"], populations[\"Popolazione\"])\n",
    "populations = dict(iterator)\n",
    "print(populations)"
   ]
  },
  {
   "cell_type": "code",
   "execution_count": 10,
   "id": "ffb7ee35",
   "metadata": {},
   "outputs": [
    {
     "data": {
      "text/html": [
       "<div>\n",
       "<style scoped>\n",
       "    .dataframe tbody tr th:only-of-type {\n",
       "        vertical-align: middle;\n",
       "    }\n",
       "\n",
       "    .dataframe tbody tr th {\n",
       "        vertical-align: top;\n",
       "    }\n",
       "\n",
       "    .dataframe thead th {\n",
       "        text-align: right;\n",
       "    }\n",
       "</style>\n",
       "<table border=\"1\" class=\"dataframe\">\n",
       "  <thead>\n",
       "    <tr style=\"text-align: right;\">\n",
       "      <th></th>\n",
       "      <th>Date</th>\n",
       "      <th>Province</th>\n",
       "      <th>Name</th>\n",
       "      <th>Inzidence</th>\n",
       "    </tr>\n",
       "  </thead>\n",
       "  <tbody>\n",
       "    <tr>\n",
       "      <th>0</th>\n",
       "      <td>2020-03-02</td>\n",
       "      <td>66</td>\n",
       "      <td>L'Aquila</td>\n",
       "      <td>0.000000</td>\n",
       "    </tr>\n",
       "    <tr>\n",
       "      <th>1</th>\n",
       "      <td>2020-03-02</td>\n",
       "      <td>67</td>\n",
       "      <td>Teramo</td>\n",
       "      <td>1.656726</td>\n",
       "    </tr>\n",
       "    <tr>\n",
       "      <th>2</th>\n",
       "      <td>2020-03-02</td>\n",
       "      <td>68</td>\n",
       "      <td>Pescara</td>\n",
       "      <td>0.000000</td>\n",
       "    </tr>\n",
       "    <tr>\n",
       "      <th>3</th>\n",
       "      <td>2020-03-02</td>\n",
       "      <td>69</td>\n",
       "      <td>Chieti</td>\n",
       "      <td>0.000000</td>\n",
       "    </tr>\n",
       "    <tr>\n",
       "      <th>4</th>\n",
       "      <td>2020-03-02</td>\n",
       "      <td>76</td>\n",
       "      <td>Potenza</td>\n",
       "      <td>0.000000</td>\n",
       "    </tr>\n",
       "  </tbody>\n",
       "</table>\n",
       "</div>"
      ],
      "text/plain": [
       "         Date Province      Name  Inzidence\n",
       "0  2020-03-02       66  L'Aquila   0.000000\n",
       "1  2020-03-02       67    Teramo   1.656726\n",
       "2  2020-03-02       68   Pescara   0.000000\n",
       "3  2020-03-02       69    Chieti   0.000000\n",
       "4  2020-03-02       76   Potenza   0.000000"
      ]
     },
     "execution_count": 10,
     "metadata": {},
     "output_type": "execute_result"
    }
   ],
   "source": [
    "days = list(dict.fromkeys(df[\"Date\"]))\n",
    "provinces = list(dict.fromkeys(list(df[\"denominazione_provincia\"])))\n",
    "#province_keys = list(dict.fromkeys(list(df[\"Provincia\"])))\n",
    "incidences = pd.DataFrame(columns=[\"Date\", \"Province\", \"Name\", \"Inzidence\"])\n",
    "\n",
    "n = 7\n",
    "i = 0\n",
    "for (dayNow, dayOld) in zip(days[n:], days[:-n]):\n",
    "    df_now = df[dayNow == df[\"Date\"]]\n",
    "    df_old = df[dayOld == df[\"Date\"]]\n",
    "    for name in provinces:\n",
    "        population = populations[name]\n",
    "        now_name = df_now[df_now[\"denominazione_provincia\"] == name]\n",
    "        cases_now = now_name[\"Totale Casi\"].item()\n",
    "        prov_code = now_name[\"Province\"].item()\n",
    "        cases_old = (df_old[df_old[\"denominazione_provincia\"] == name])[\"Totale Casi\"].item()\n",
    "        incidence = (cases_now-cases_old)*10**5 / population\n",
    "        line = [list(df_now[\"Date\"])[0], prov_code, name, incidence]\n",
    "        incidences.loc[i] = line\n",
    "        i+=1\n",
    "incidences.head()\n"
   ]
  },
  {
   "cell_type": "code",
   "execution_count": 11,
   "id": "8898cdeb",
   "metadata": {},
   "outputs": [
    {
     "name": "stdout",
     "output_type": "stream",
     "text": [
      "55747 55747\n"
     ]
    }
   ],
   "source": [
    "print(len(df), len(incidences)+7*107)"
   ]
  },
  {
   "cell_type": "code",
   "execution_count": 12,
   "id": "4d611d1d",
   "metadata": {},
   "outputs": [],
   "source": [
    "fig = px.choropleth(df,\n",
    "                    geojson='https://raw.githubusercontent.com/openpolis/geojson-italy/master/geojson/limits_IT_provinces.geojson',\n",
    "                    locations='Province',\n",
    "                    color='Totale Casi',\n",
    "                    color_continuous_scale='Reds',\n",
    "                    featureidkey='properties.prov_istat_code_num',\n",
    "                    animation_frame='Date',\n",
    "                    range_color=(0, max(df['Totale Casi'])))\n",
    "fig.update_layout(margin={\"r\": 0, \"t\": 0, \"l\": 0, \"b\": 0})\n",
    "fig.update_geos(fitbounds=\"locations\", visible=False)\n",
    "fig.write_html('total_cases.html')"
   ]
  },
  {
   "cell_type": "code",
   "execution_count": 13,
   "id": "44ebddd5",
   "metadata": {},
   "outputs": [],
   "source": [
    "fig = px.choropleth(incidences,\n",
    "                    geojson='https://raw.githubusercontent.com/openpolis/geojson-italy/master/geojson/limits_IT_provinces.geojson',\n",
    "                    locations='Province',\n",
    "                    color='Inzidence',\n",
    "                    color_continuous_scale='Reds',\n",
    "                    featureidkey='properties.prov_istat_code_num',\n",
    "                    animation_frame='Date',\n",
    "                    range_color=(0, 300))\n",
    "fig.update_layout(margin={\"r\": 0, \"t\": 0, \"l\": 0, \"b\": 0})\n",
    "fig.update_geos(fitbounds=\"locations\", visible=False)\n",
    "fig.write_html('index.html')"
   ]
  },
  {
   "cell_type": "code",
   "execution_count": null,
   "id": "4539f736",
   "metadata": {},
   "outputs": [],
   "source": []
  }
 ],
 "metadata": {
  "kernelspec": {
   "display_name": "Python 3",
   "language": "python",
   "name": "python3"
  },
  "language_info": {
   "codemirror_mode": {
    "name": "ipython",
    "version": 3
   },
   "file_extension": ".py",
   "mimetype": "text/x-python",
   "name": "python",
   "nbconvert_exporter": "python",
   "pygments_lexer": "ipython3",
   "version": "3.8.8"
  }
 },
 "nbformat": 4,
 "nbformat_minor": 5
}
